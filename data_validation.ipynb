{
 "cells": [
  {
   "cell_type": "code",
   "execution_count": 1,
   "metadata": {},
   "outputs": [
    {
     "name": "stderr",
     "output_type": "stream",
     "text": [
      "03/22/2022 02:45:48 PM WARNING:C:\\Users\\tigra\\AppData\\Local\\Programs\\Python\\Python39\\lib\\site-packages\\great_expectations\\render\\view\\view.py:116: DeprecationWarning: 'contextfilter' is renamed to 'pass_context', the old name will be removed in Jinja 3.1.\n",
      "  def add_data_context_id_to_url(self, jinja_context, url, add_datetime=True):\n",
      "\n"
     ]
    }
   ],
   "source": [
    "# Importing dependencies\n",
    "import pandas as pd\n",
    "import numpy as np\n",
    "from feast import FeatureStore\n",
    "from feast.dqm.profilers.ge_profiler import ge_profiler\n",
    "from great_expectations.core.expectation_suite import ExpectationSuite\n",
    "from great_expectations.dataset import PandasDataset"
   ]
  },
  {
   "cell_type": "code",
   "execution_count": 122,
   "metadata": {},
   "outputs": [],
   "source": [
    "# Getting our feature store\n",
    "store = FeatureStore(repo_path=\"driver_stats/\")\n",
    "\n",
    "# Getting a saved dataset\n",
    "dataset = store.get_saved_dataset('driver_stats')"
   ]
  },
  {
   "cell_type": "code",
   "execution_count": 153,
   "metadata": {},
   "outputs": [],
   "source": [
    "# Tolerance value for the mean\n",
    "DELTA = 0.1\n",
    "\n",
    "# Creating a profiler function\n",
    "@ge_profiler\n",
    "def stats_profiler(ds: PandasDataset) -> ExpectationSuite:\n",
    "    # DEFINING MINIMUM AND MAXIMUM\n",
    "    # EXPECTED VALUES\n",
    "\n",
    "    observed_min = ds[\"avg_daily_trips\"].min()\n",
    "    observed_max = ds[\"avg_daily_trips\"].max()\n",
    "    # Setting the expected min and max values\n",
    "    ds.expect_column_values_to_be_between(\n",
    "        column=\"avg_daily_trips\",\n",
    "        mostly=0.99,\n",
    "        min_value=observed_min,\n",
    "        max_value=observed_max       \n",
    "    )\n",
    "\n",
    "    # DEFINING EXPECTED AVERAGE\n",
    "\n",
    "    # Getting the average of the reference dataset\n",
    "    observed_mean = ds[\"avg_daily_trips\"].mean()\n",
    "    \n",
    "    # Setting the expected range\n",
    "    ds.expect_column_mean_to_be_between(\n",
    "        column=\"avg_daily_trips\",        \n",
    "        min_value=observed_mean * (1 - DELTA),\n",
    "        max_value=observed_mean * (1 + DELTA)\n",
    "    )\n",
    "\n",
    "    # Retrieving comparison results\n",
    "    return ds.get_expectation_suite(discard_failed_expectations=False)"
   ]
  },
  {
   "cell_type": "code",
   "execution_count": 154,
   "metadata": {},
   "outputs": [
    {
     "name": "stderr",
     "output_type": "stream",
     "text": [
      "03/22/2022 04:17:37 PM INFO:\t2 expectation(s) included in expectation_suite. result_format settings filtered.\n"
     ]
    },
    {
     "data": {
      "text/plain": [
       "<GEProfile with expectations: [\n",
       "  {\n",
       "    \"meta\": {},\n",
       "    \"kwargs\": {\n",
       "      \"column\": \"avg_daily_trips\",\n",
       "      \"mostly\": 0.99,\n",
       "      \"min_value\": 2,\n",
       "      \"max_value\": 998\n",
       "    },\n",
       "    \"expectation_type\": \"expect_column_values_to_be_between\"\n",
       "  },\n",
       "  {\n",
       "    \"meta\": {},\n",
       "    \"kwargs\": {\n",
       "      \"column\": \"avg_daily_trips\",\n",
       "      \"min_value\": 435.62050632911394,\n",
       "      \"max_value\": 532.4250632911393\n",
       "    },\n",
       "    \"expectation_type\": \"expect_column_mean_to_be_between\"\n",
       "  }\n",
       "]>"
      ]
     },
     "execution_count": 154,
     "metadata": {},
     "output_type": "execute_result"
    }
   ],
   "source": [
    "# Checking the expectation function\n",
    "dataset.get_profile(profiler=stats_profiler)"
   ]
  },
  {
   "cell_type": "code",
   "execution_count": 155,
   "metadata": {},
   "outputs": [],
   "source": [
    "# Saving the dataset as a reference for validation\n",
    "validation_reference = dataset.as_reference(profiler=stats_profiler)"
   ]
  },
  {
   "cell_type": "code",
   "execution_count": 156,
   "metadata": {},
   "outputs": [],
   "source": [
    "# Creating an entity DataFrame with timestamps\n",
    "timestamps = pd.date_range(\n",
    "    start=\"2021-09-05\",    \n",
    "    end=\"2021-09-06\",     \n",
    "    freq='H').to_frame(name=\"event_timestamp\", index=False)\n",
    "\n",
    "# Creating patient IDs for the entity DataFrame\n",
    "driver_ids = pd.DataFrame([1001, 1002, 1003, 1004, 1005], columns=[\"driver_id\"])\n",
    "\n",
    "# Create the cartersian product of our timestamps and entities \n",
    "entity_df = timestamps.merge(right=driver_ids, how=\"cross\")\n",
    "\n",
    "# Getting the indicated historical features\n",
    "# and joining them with our entity DataFrame\n",
    "historical_features = store.get_historical_features(\n",
    "    entity_df=entity_df,\n",
    "    features=[\n",
    "        \"driver_stats_fv:conv_rate\",\n",
    "        \"driver_stats_fv:acc_rate\",\n",
    "        \"driver_stats_fv:avg_daily_trips\",\n",
    "    ]\n",
    ")"
   ]
  },
  {
   "cell_type": "code",
   "execution_count": 157,
   "metadata": {},
   "outputs": [
    {
     "name": "stderr",
     "output_type": "stream",
     "text": [
      "C:\\Users\\tigra\\AppData\\Local\\Programs\\Python\\Python39\\lib\\site-packages\\feast\\infra\\offline_stores\\offline_store.py:89: RuntimeWarning: Dataset validation is an experimental feature. This API is unstable and it could and most probably will be changed in the future. We do not guarantee that future changes will maintain backward compatibility.\n",
      "  warnings.warn(\n",
      "03/22/2022 04:17:38 PM INFO:\t2 expectation(s) included in expectation_suite. result_format settings filtered.\n",
      "03/22/2022 04:17:38 PM INFO:Validating data_asset_name None with expectation_suite_name default\n"
     ]
    },
    {
     "ename": "ValidationFailed",
     "evalue": "[\n  {\n    \"result\": {\n      \"element_count\": 125,\n      \"missing_count\": 0,\n      \"missing_percent\": 0.0,\n      \"unexpected_count\": 2,\n      \"unexpected_percent\": 1.6,\n      \"unexpected_percent_total\": 1.6,\n      \"unexpected_percent_nonmissing\": 1.6,\n      \"partial_unexpected_list\": [\n        0,\n        1\n      ],\n      \"partial_unexpected_index_list\": [\n        61,\n        73\n      ],\n      \"partial_unexpected_counts\": [\n        {\n          \"value\": 0,\n          \"count\": 1\n        },\n        {\n          \"value\": 1,\n          \"count\": 1\n        }\n      ],\n      \"unexpected_list\": [\n        0,\n        1\n      ],\n      \"unexpected_index_list\": [\n        61,\n        73\n      ]\n    },\n    \"meta\": {},\n    \"success\": false,\n    \"exception_info\": {\n      \"raised_exception\": false,\n      \"exception_message\": null,\n      \"exception_traceback\": null\n    },\n    \"expectation_config\": {\n      \"meta\": {},\n      \"kwargs\": {\n        \"column\": \"avg_daily_trips\",\n        \"mostly\": 0.99,\n        \"min_value\": 2,\n        \"max_value\": 998,\n        \"result_format\": \"COMPLETE\"\n      },\n      \"expectation_type\": \"expect_column_values_to_be_between\"\n    }\n  }\n]",
     "output_type": "error",
     "traceback": [
      "\u001b[1;31m---------------------------------------------------------------------------\u001b[0m",
      "\u001b[1;31mValidationFailed\u001b[0m                          Traceback (most recent call last)",
      "\u001b[1;32m~\\AppData\\Local\\Temp/ipykernel_13792/1329615607.py\u001b[0m in \u001b[0;36m<module>\u001b[1;34m\u001b[0m\n\u001b[0;32m      1\u001b[0m \u001b[1;31m# Converting the RetrievalJob to a DataFrame and validating it against our reference dataset\u001b[0m\u001b[1;33m\u001b[0m\u001b[1;33m\u001b[0m\u001b[1;33m\u001b[0m\u001b[0m\n\u001b[1;32m----> 2\u001b[1;33m \u001b[0m_\u001b[0m \u001b[1;33m=\u001b[0m \u001b[0mhistorical_features\u001b[0m\u001b[1;33m.\u001b[0m\u001b[0mto_df\u001b[0m\u001b[1;33m(\u001b[0m\u001b[0mvalidation_reference\u001b[0m\u001b[1;33m=\u001b[0m\u001b[0mvalidation_reference\u001b[0m\u001b[1;33m)\u001b[0m\u001b[1;33m\u001b[0m\u001b[1;33m\u001b[0m\u001b[0m\n\u001b[0m",
      "\u001b[1;32m~\\AppData\\Local\\Programs\\Python\\Python39\\lib\\site-packages\\feast\\infra\\offline_stores\\offline_store.py\u001b[0m in \u001b[0;36mto_df\u001b[1;34m(self, validation_reference)\u001b[0m\n\u001b[0;32m     96\u001b[0m             \u001b[0mvalidation_result\u001b[0m \u001b[1;33m=\u001b[0m \u001b[0mvalidation_reference\u001b[0m\u001b[1;33m.\u001b[0m\u001b[0mprofile\u001b[0m\u001b[1;33m.\u001b[0m\u001b[0mvalidate\u001b[0m\u001b[1;33m(\u001b[0m\u001b[0mfeatures_df\u001b[0m\u001b[1;33m)\u001b[0m\u001b[1;33m\u001b[0m\u001b[1;33m\u001b[0m\u001b[0m\n\u001b[0;32m     97\u001b[0m             \u001b[1;32mif\u001b[0m \u001b[1;32mnot\u001b[0m \u001b[0mvalidation_result\u001b[0m\u001b[1;33m.\u001b[0m\u001b[0mis_success\u001b[0m\u001b[1;33m:\u001b[0m\u001b[1;33m\u001b[0m\u001b[1;33m\u001b[0m\u001b[0m\n\u001b[1;32m---> 98\u001b[1;33m                 \u001b[1;32mraise\u001b[0m \u001b[0mValidationFailed\u001b[0m\u001b[1;33m(\u001b[0m\u001b[0mvalidation_result\u001b[0m\u001b[1;33m)\u001b[0m\u001b[1;33m\u001b[0m\u001b[1;33m\u001b[0m\u001b[0m\n\u001b[0m\u001b[0;32m     99\u001b[0m \u001b[1;33m\u001b[0m\u001b[0m\n\u001b[0;32m    100\u001b[0m         \u001b[1;32mreturn\u001b[0m \u001b[0mfeatures_df\u001b[0m\u001b[1;33m\u001b[0m\u001b[1;33m\u001b[0m\u001b[0m\n",
      "\u001b[1;31mValidationFailed\u001b[0m: [\n  {\n    \"result\": {\n      \"element_count\": 125,\n      \"missing_count\": 0,\n      \"missing_percent\": 0.0,\n      \"unexpected_count\": 2,\n      \"unexpected_percent\": 1.6,\n      \"unexpected_percent_total\": 1.6,\n      \"unexpected_percent_nonmissing\": 1.6,\n      \"partial_unexpected_list\": [\n        0,\n        1\n      ],\n      \"partial_unexpected_index_list\": [\n        61,\n        73\n      ],\n      \"partial_unexpected_counts\": [\n        {\n          \"value\": 0,\n          \"count\": 1\n        },\n        {\n          \"value\": 1,\n          \"count\": 1\n        }\n      ],\n      \"unexpected_list\": [\n        0,\n        1\n      ],\n      \"unexpected_index_list\": [\n        61,\n        73\n      ]\n    },\n    \"meta\": {},\n    \"success\": false,\n    \"exception_info\": {\n      \"raised_exception\": false,\n      \"exception_message\": null,\n      \"exception_traceback\": null\n    },\n    \"expectation_config\": {\n      \"meta\": {},\n      \"kwargs\": {\n        \"column\": \"avg_daily_trips\",\n        \"mostly\": 0.99,\n        \"min_value\": 2,\n        \"max_value\": 998,\n        \"result_format\": \"COMPLETE\"\n      },\n      \"expectation_type\": \"expect_column_values_to_be_between\"\n    }\n  }\n]"
     ]
    }
   ],
   "source": [
    "\n",
    "# Converting the RetrievalJob to a DataFrame and validating it against our reference dataset\n",
    "_ = historical_features.to_df(validation_reference=validation_reference)"
   ]
  },
  {
   "cell_type": "code",
   "execution_count": 158,
   "metadata": {},
   "outputs": [],
   "source": [
    "# Creating an entity DataFrame with timestamps\n",
    "timestamps = pd.date_range(\n",
    "    start=\"2021-09-05\",    \n",
    "    end=\"2021-09-15\",     \n",
    "    freq='H').to_frame(name=\"event_timestamp\", index=False)\n",
    "\n",
    "# Creating patient IDs for the entity DataFrame\n",
    "driver_ids = pd.DataFrame([1001, 1002, 1003, 1004, 1005], columns=[\"driver_id\"])\n",
    "\n",
    "# Create the cartersian product of our timestamps and entities \n",
    "entity_df = timestamps.merge(right=driver_ids, how=\"cross\")\n",
    "\n",
    "# Getting the indicated historical features\n",
    "# and joining them with our entity DataFrame\n",
    "historical_features = store.get_historical_features(\n",
    "    entity_df=entity_df,\n",
    "    features=[\n",
    "        \"driver_stats_fv:conv_rate\",\n",
    "        \"driver_stats_fv:acc_rate\",\n",
    "        \"driver_stats_fv:avg_daily_trips\",\n",
    "    ]\n",
    ")"
   ]
  },
  {
   "cell_type": "code",
   "execution_count": 159,
   "metadata": {},
   "outputs": [
    {
     "name": "stderr",
     "output_type": "stream",
     "text": [
      "C:\\Users\\tigra\\AppData\\Local\\Programs\\Python\\Python39\\lib\\site-packages\\feast\\infra\\offline_stores\\offline_store.py:89: RuntimeWarning: Dataset validation is an experimental feature. This API is unstable and it could and most probably will be changed in the future. We do not guarantee that future changes will maintain backward compatibility.\n",
      "  warnings.warn(\n",
      "03/22/2022 04:17:40 PM INFO:\t2 expectation(s) included in expectation_suite. result_format settings filtered.\n",
      "03/22/2022 04:17:40 PM INFO:Validating data_asset_name None with expectation_suite_name default\n"
     ]
    }
   ],
   "source": [
    "# Converting the RetrievalJob to a DataFrame and validating it against our reference dataset\n",
    "_ = historical_features.to_df(validation_reference=validation_reference)"
   ]
  },
  {
   "cell_type": "code",
   "execution_count": 162,
   "metadata": {},
   "outputs": [
    {
     "name": "stderr",
     "output_type": "stream",
     "text": [
      "03/22/2022 04:19:13 PM INFO:\t2 expectation(s) included in expectation_suite. result_format settings filtered.\n"
     ]
    },
    {
     "data": {
      "text/plain": [
       "<GEProfile with expectations: [\n",
       "  {\n",
       "    \"meta\": {},\n",
       "    \"kwargs\": {\n",
       "      \"column\": \"avg_daily_trips\",\n",
       "      \"mostly\": 0.99,\n",
       "      \"min_value\": 2,\n",
       "      \"max_value\": 998\n",
       "    },\n",
       "    \"expectation_type\": \"expect_column_values_to_be_between\"\n",
       "  },\n",
       "  {\n",
       "    \"meta\": {},\n",
       "    \"kwargs\": {\n",
       "      \"column\": \"avg_daily_trips\",\n",
       "      \"min_value\": 435.62050632911394,\n",
       "      \"max_value\": 532.4250632911393\n",
       "    },\n",
       "    \"expectation_type\": \"expect_column_mean_to_be_between\"\n",
       "  }\n",
       "]>"
      ]
     },
     "execution_count": 162,
     "metadata": {},
     "output_type": "execute_result"
    }
   ],
   "source": [
    "# Getting our feature store\n",
    "store = FeatureStore(repo_path=\"driver_stats/\")\n",
    "\n",
    "# Getting a saved dataset\n",
    "dataset_1001 = store.get_saved_dataset('driver_stats_1001')\n",
    "\n",
    "# Checking the expectation function\n",
    "dataset_1001.get_profile(profiler=stats_profiler)"
   ]
  },
  {
   "cell_type": "code",
   "execution_count": 151,
   "metadata": {},
   "outputs": [],
   "source": [
    "# Creating an entity DataFrame with timestamps\n",
    "timestamps = pd.date_range(\n",
    "    start=\"2021-09-05\",    \n",
    "    end=\"2021-09-15\",     \n",
    "    freq='H').to_frame(name=\"event_timestamp\", index=False)\n",
    "\n",
    "# Creating patient IDs for the entity DataFrame\n",
    "driver_ids = pd.DataFrame([1001], columns=[\"driver_id\"])\n",
    "\n",
    "# Create the cartersian product of our timestamps and entities \n",
    "entity_df = timestamps.merge(right=driver_ids, how=\"cross\")\n",
    "\n",
    "# Getting the indicated historical features\n",
    "# and joining them with our entity DataFrame\n",
    "historical_features = store.get_historical_features(\n",
    "    entity_df=entity_df,\n",
    "    features=[\n",
    "        \"driver_stats_fv:conv_rate\",\n",
    "        \"driver_stats_fv:acc_rate\",\n",
    "        \"driver_stats_fv:avg_daily_trips\",\n",
    "    ]\n",
    ")"
   ]
  },
  {
   "cell_type": "code",
   "execution_count": 163,
   "metadata": {},
   "outputs": [
    {
     "name": "stderr",
     "output_type": "stream",
     "text": [
      "C:\\Users\\tigra\\AppData\\Local\\Programs\\Python\\Python39\\lib\\site-packages\\feast\\infra\\offline_stores\\offline_store.py:89: RuntimeWarning: Dataset validation is an experimental feature. This API is unstable and it could and most probably will be changed in the future. We do not guarantee that future changes will maintain backward compatibility.\n",
      "  warnings.warn(\n",
      "03/22/2022 04:20:24 PM INFO:\t2 expectation(s) included in expectation_suite. result_format settings filtered.\n",
      "03/22/2022 04:20:24 PM INFO:Validating data_asset_name None with expectation_suite_name default\n"
     ]
    }
   ],
   "source": [
    "# Converting the RetrievalJob to a DataFrame and validating it against our reference dataset\n",
    "_ = historical_features.to_df(validation_reference=validation_reference)"
   ]
  },
  {
   "cell_type": "code",
   "execution_count": 55,
   "metadata": {},
   "outputs": [
    {
     "name": "stderr",
     "output_type": "stream",
     "text": [
      "C:\\Users\\tigra\\AppData\\Local\\Programs\\Python\\Python39\\lib\\site-packages\\feast\\infra\\offline_stores\\offline_store.py:89: RuntimeWarning: Dataset validation is an experimental feature. This API is unstable and it could and most probably will be changed in the future. We do not guarantee that future changes will maintain backward compatibility.\n",
      "  warnings.warn(\n",
      "03/21/2022 04:36:30 PM INFO:\t2 expectation(s) included in expectation_suite. result_format settings filtered.\n",
      "03/21/2022 04:36:30 PM INFO:Validating data_asset_name None with expectation_suite_name default\n"
     ]
    },
    {
     "name": "stdout",
     "output_type": "stream",
     "text": [
      "[\n",
      "  {\n",
      "    \"result\": {\n",
      "      \"element_count\": 1325,\n",
      "      \"missing_count\": 0,\n",
      "      \"missing_percent\": 0.0,\n",
      "      \"unexpected_count\": 8,\n",
      "      \"unexpected_percent\": 0.6037735849056604,\n",
      "      \"unexpected_percent_total\": 0.6037735849056604,\n",
      "      \"unexpected_percent_nonmissing\": 0.6037735849056604,\n",
      "      \"partial_unexpected_list\": [\n",
      "        0.9989146590232849,\n",
      "        0.9969046711921692,\n",
      "        0.9988154768943787,\n",
      "        0.9993253350257874,\n",
      "        0.0014650573721155524,\n",
      "        0.0012101813917979598,\n",
      "        0.9968545436859131,\n",
      "        0.0014644580660387874\n",
      "      ],\n",
      "      \"partial_unexpected_index_list\": [\n",
      "        144,\n",
      "        326,\n",
      "        704,\n",
      "        761,\n",
      "        773,\n",
      "        1172,\n",
      "        1174,\n",
      "        1272\n",
      "      ],\n",
      "      \"partial_unexpected_counts\": [\n",
      "        {\n",
      "          \"value\": 0.0012101813917979598,\n",
      "          \"count\": 1\n",
      "        },\n",
      "        {\n",
      "          \"value\": 0.0014644580660387874,\n",
      "          \"count\": 1\n",
      "        },\n",
      "        {\n",
      "          \"value\": 0.0014650573721155524,\n",
      "          \"count\": 1\n",
      "        },\n",
      "        {\n",
      "          \"value\": 0.9968545436859131,\n",
      "          \"count\": 1\n",
      "        },\n",
      "        {\n",
      "          \"value\": 0.9969046711921692,\n",
      "          \"count\": 1\n",
      "        },\n",
      "        {\n",
      "          \"value\": 0.9988154768943787,\n",
      "          \"count\": 1\n",
      "        },\n",
      "        {\n",
      "          \"value\": 0.9989146590232849,\n",
      "          \"count\": 1\n",
      "        },\n",
      "        {\n",
      "          \"value\": 0.9993253350257874,\n",
      "          \"count\": 1\n",
      "        }\n",
      "      ],\n",
      "      \"unexpected_list\": [\n",
      "        0.9989146590232849,\n",
      "        0.9969046711921692,\n",
      "        0.9988154768943787,\n",
      "        0.9993253350257874,\n",
      "        0.0014650573721155524,\n",
      "        0.0012101813917979598,\n",
      "        0.9968545436859131,\n",
      "        0.0014644580660387874\n",
      "      ],\n",
      "      \"unexpected_index_list\": [\n",
      "        144,\n",
      "        326,\n",
      "        704,\n",
      "        761,\n",
      "        773,\n",
      "        1172,\n",
      "        1174,\n",
      "        1272\n",
      "      ]\n",
      "    },\n",
      "    \"meta\": {},\n",
      "    \"success\": false,\n",
      "    \"expectation_config\": {\n",
      "      \"kwargs\": {\n",
      "        \"column\": \"conv_rate\",\n",
      "        \"min_value\": 0.002141552744433284,\n",
      "        \"max_value\": 0.9957939982414246,\n",
      "        \"result_format\": \"COMPLETE\"\n",
      "      },\n",
      "      \"expectation_type\": \"expect_column_values_to_be_between\",\n",
      "      \"meta\": {}\n",
      "    },\n",
      "    \"exception_info\": {\n",
      "      \"raised_exception\": false,\n",
      "      \"exception_message\": null,\n",
      "      \"exception_traceback\": null\n",
      "    }\n",
      "  },\n",
      "  {\n",
      "    \"result\": {\n",
      "      \"observed_value\": 0.5067012782416851,\n",
      "      \"element_count\": 1325,\n",
      "      \"missing_count\": null,\n",
      "      \"missing_percent\": null\n",
      "    },\n",
      "    \"meta\": {},\n",
      "    \"success\": false,\n",
      "    \"expectation_config\": {\n",
      "      \"kwargs\": {\n",
      "        \"column\": \"conv_rate\",\n",
      "        \"min_value\": 0.4850536768952296,\n",
      "        \"max_value\": 0.4850633780657792,\n",
      "        \"result_format\": \"COMPLETE\"\n",
      "      },\n",
      "      \"expectation_type\": \"expect_column_mean_to_be_between\",\n",
      "      \"meta\": {}\n",
      "    },\n",
      "    \"exception_info\": {\n",
      "      \"raised_exception\": false,\n",
      "      \"exception_message\": null,\n",
      "      \"exception_traceback\": null\n",
      "    }\n",
      "  }\n",
      "]\n"
     ]
    }
   ],
   "source": [
    "try:\n",
    "    df = historical_features.to_df(validation_reference=validation_reference)\n",
    "    print(\"success\")\n",
    "except ValidationFailed as exc:\n",
    "    print(exc.validation_report)"
   ]
  },
  {
   "cell_type": "code",
   "execution_count": 56,
   "metadata": {},
   "outputs": [
    {
     "name": "stderr",
     "output_type": "stream",
     "text": [
      "C:\\Users\\tigra\\AppData\\Local\\Programs\\Python\\Python39\\lib\\site-packages\\feast\\infra\\offline_stores\\offline_store.py:89: RuntimeWarning: Dataset validation is an experimental feature. This API is unstable and it could and most probably will be changed in the future. We do not guarantee that future changes will maintain backward compatibility.\n",
      "  warnings.warn(\n",
      "03/21/2022 04:36:31 PM INFO:\t2 expectation(s) included in expectation_suite. result_format settings filtered.\n",
      "03/21/2022 04:36:31 PM INFO:Validating data_asset_name None with expectation_suite_name default\n"
     ]
    },
    {
     "ename": "ValidationFailed",
     "evalue": "[\n  {\n    \"result\": {\n      \"element_count\": 1325,\n      \"missing_count\": 0,\n      \"missing_percent\": 0.0,\n      \"unexpected_count\": 8,\n      \"unexpected_percent\": 0.6037735849056604,\n      \"unexpected_percent_total\": 0.6037735849056604,\n      \"unexpected_percent_nonmissing\": 0.6037735849056604,\n      \"partial_unexpected_list\": [\n        0.9989146590232849,\n        0.9969046711921692,\n        0.9988154768943787,\n        0.9993253350257874,\n        0.0014650573721155524,\n        0.0012101813917979598,\n        0.9968545436859131,\n        0.0014644580660387874\n      ],\n      \"partial_unexpected_index_list\": [\n        144,\n        326,\n        704,\n        761,\n        773,\n        1172,\n        1174,\n        1272\n      ],\n      \"partial_unexpected_counts\": [\n        {\n          \"value\": 0.0012101813917979598,\n          \"count\": 1\n        },\n        {\n          \"value\": 0.0014644580660387874,\n          \"count\": 1\n        },\n        {\n          \"value\": 0.0014650573721155524,\n          \"count\": 1\n        },\n        {\n          \"value\": 0.9968545436859131,\n          \"count\": 1\n        },\n        {\n          \"value\": 0.9969046711921692,\n          \"count\": 1\n        },\n        {\n          \"value\": 0.9988154768943787,\n          \"count\": 1\n        },\n        {\n          \"value\": 0.9989146590232849,\n          \"count\": 1\n        },\n        {\n          \"value\": 0.9993253350257874,\n          \"count\": 1\n        }\n      ],\n      \"unexpected_list\": [\n        0.9989146590232849,\n        0.9969046711921692,\n        0.9988154768943787,\n        0.9993253350257874,\n        0.0014650573721155524,\n        0.0012101813917979598,\n        0.9968545436859131,\n        0.0014644580660387874\n      ],\n      \"unexpected_index_list\": [\n        144,\n        326,\n        704,\n        761,\n        773,\n        1172,\n        1174,\n        1272\n      ]\n    },\n    \"meta\": {},\n    \"success\": false,\n    \"expectation_config\": {\n      \"kwargs\": {\n        \"column\": \"conv_rate\",\n        \"min_value\": 0.002141552744433284,\n        \"max_value\": 0.9957939982414246,\n        \"result_format\": \"COMPLETE\"\n      },\n      \"expectation_type\": \"expect_column_values_to_be_between\",\n      \"meta\": {}\n    },\n    \"exception_info\": {\n      \"raised_exception\": false,\n      \"exception_message\": null,\n      \"exception_traceback\": null\n    }\n  },\n  {\n    \"result\": {\n      \"observed_value\": 0.5067012782416851,\n      \"element_count\": 1325,\n      \"missing_count\": null,\n      \"missing_percent\": null\n    },\n    \"meta\": {},\n    \"success\": false,\n    \"expectation_config\": {\n      \"kwargs\": {\n        \"column\": \"conv_rate\",\n        \"min_value\": 0.4850536768952296,\n        \"max_value\": 0.4850633780657792,\n        \"result_format\": \"COMPLETE\"\n      },\n      \"expectation_type\": \"expect_column_mean_to_be_between\",\n      \"meta\": {}\n    },\n    \"exception_info\": {\n      \"raised_exception\": false,\n      \"exception_message\": null,\n      \"exception_traceback\": null\n    }\n  }\n]",
     "output_type": "error",
     "traceback": [
      "\u001b[1;31m---------------------------------------------------------------------------\u001b[0m",
      "\u001b[1;31mValidationFailed\u001b[0m                          Traceback (most recent call last)",
      "\u001b[1;32m~\\AppData\\Local\\Temp/ipykernel_11624/2212119475.py\u001b[0m in \u001b[0;36m<module>\u001b[1;34m\u001b[0m\n\u001b[1;32m----> 1\u001b[1;33m \u001b[0mdf\u001b[0m \u001b[1;33m=\u001b[0m \u001b[0mhistorical_features\u001b[0m\u001b[1;33m.\u001b[0m\u001b[0mto_df\u001b[0m\u001b[1;33m(\u001b[0m\u001b[0mvalidation_reference\u001b[0m\u001b[1;33m=\u001b[0m\u001b[0mvalidation_reference\u001b[0m\u001b[1;33m)\u001b[0m\u001b[1;33m\u001b[0m\u001b[1;33m\u001b[0m\u001b[0m\n\u001b[0m",
      "\u001b[1;32m~\\AppData\\Local\\Programs\\Python\\Python39\\lib\\site-packages\\feast\\infra\\offline_stores\\offline_store.py\u001b[0m in \u001b[0;36mto_df\u001b[1;34m(self, validation_reference)\u001b[0m\n\u001b[0;32m     96\u001b[0m             \u001b[0mvalidation_result\u001b[0m \u001b[1;33m=\u001b[0m \u001b[0mvalidation_reference\u001b[0m\u001b[1;33m.\u001b[0m\u001b[0mprofile\u001b[0m\u001b[1;33m.\u001b[0m\u001b[0mvalidate\u001b[0m\u001b[1;33m(\u001b[0m\u001b[0mfeatures_df\u001b[0m\u001b[1;33m)\u001b[0m\u001b[1;33m\u001b[0m\u001b[1;33m\u001b[0m\u001b[0m\n\u001b[0;32m     97\u001b[0m             \u001b[1;32mif\u001b[0m \u001b[1;32mnot\u001b[0m \u001b[0mvalidation_result\u001b[0m\u001b[1;33m.\u001b[0m\u001b[0mis_success\u001b[0m\u001b[1;33m:\u001b[0m\u001b[1;33m\u001b[0m\u001b[1;33m\u001b[0m\u001b[0m\n\u001b[1;32m---> 98\u001b[1;33m                 \u001b[1;32mraise\u001b[0m \u001b[0mValidationFailed\u001b[0m\u001b[1;33m(\u001b[0m\u001b[0mvalidation_result\u001b[0m\u001b[1;33m)\u001b[0m\u001b[1;33m\u001b[0m\u001b[1;33m\u001b[0m\u001b[0m\n\u001b[0m\u001b[0;32m     99\u001b[0m \u001b[1;33m\u001b[0m\u001b[0m\n\u001b[0;32m    100\u001b[0m         \u001b[1;32mreturn\u001b[0m \u001b[0mfeatures_df\u001b[0m\u001b[1;33m\u001b[0m\u001b[1;33m\u001b[0m\u001b[0m\n",
      "\u001b[1;31mValidationFailed\u001b[0m: [\n  {\n    \"result\": {\n      \"element_count\": 1325,\n      \"missing_count\": 0,\n      \"missing_percent\": 0.0,\n      \"unexpected_count\": 8,\n      \"unexpected_percent\": 0.6037735849056604,\n      \"unexpected_percent_total\": 0.6037735849056604,\n      \"unexpected_percent_nonmissing\": 0.6037735849056604,\n      \"partial_unexpected_list\": [\n        0.9989146590232849,\n        0.9969046711921692,\n        0.9988154768943787,\n        0.9993253350257874,\n        0.0014650573721155524,\n        0.0012101813917979598,\n        0.9968545436859131,\n        0.0014644580660387874\n      ],\n      \"partial_unexpected_index_list\": [\n        144,\n        326,\n        704,\n        761,\n        773,\n        1172,\n        1174,\n        1272\n      ],\n      \"partial_unexpected_counts\": [\n        {\n          \"value\": 0.0012101813917979598,\n          \"count\": 1\n        },\n        {\n          \"value\": 0.0014644580660387874,\n          \"count\": 1\n        },\n        {\n          \"value\": 0.0014650573721155524,\n          \"count\": 1\n        },\n        {\n          \"value\": 0.9968545436859131,\n          \"count\": 1\n        },\n        {\n          \"value\": 0.9969046711921692,\n          \"count\": 1\n        },\n        {\n          \"value\": 0.9988154768943787,\n          \"count\": 1\n        },\n        {\n          \"value\": 0.9989146590232849,\n          \"count\": 1\n        },\n        {\n          \"value\": 0.9993253350257874,\n          \"count\": 1\n        }\n      ],\n      \"unexpected_list\": [\n        0.9989146590232849,\n        0.9969046711921692,\n        0.9988154768943787,\n        0.9993253350257874,\n        0.0014650573721155524,\n        0.0012101813917979598,\n        0.9968545436859131,\n        0.0014644580660387874\n      ],\n      \"unexpected_index_list\": [\n        144,\n        326,\n        704,\n        761,\n        773,\n        1172,\n        1174,\n        1272\n      ]\n    },\n    \"meta\": {},\n    \"success\": false,\n    \"expectation_config\": {\n      \"kwargs\": {\n        \"column\": \"conv_rate\",\n        \"min_value\": 0.002141552744433284,\n        \"max_value\": 0.9957939982414246,\n        \"result_format\": \"COMPLETE\"\n      },\n      \"expectation_type\": \"expect_column_values_to_be_between\",\n      \"meta\": {}\n    },\n    \"exception_info\": {\n      \"raised_exception\": false,\n      \"exception_message\": null,\n      \"exception_traceback\": null\n    }\n  },\n  {\n    \"result\": {\n      \"observed_value\": 0.5067012782416851,\n      \"element_count\": 1325,\n      \"missing_count\": null,\n      \"missing_percent\": null\n    },\n    \"meta\": {},\n    \"success\": false,\n    \"expectation_config\": {\n      \"kwargs\": {\n        \"column\": \"conv_rate\",\n        \"min_value\": 0.4850536768952296,\n        \"max_value\": 0.4850633780657792,\n        \"result_format\": \"COMPLETE\"\n      },\n      \"expectation_type\": \"expect_column_mean_to_be_between\",\n      \"meta\": {}\n    },\n    \"exception_info\": {\n      \"raised_exception\": false,\n      \"exception_message\": null,\n      \"exception_traceback\": null\n    }\n  }\n]"
     ]
    }
   ],
   "source": [
    "df = historical_features.to_df(validation_reference=validation_reference)"
   ]
  },
  {
   "cell_type": "code",
   "execution_count": null,
   "metadata": {},
   "outputs": [],
   "source": []
  }
 ],
 "metadata": {
  "interpreter": {
   "hash": "0281ae4893e10b52c4d5b801530748bd8cbe731f1c41bfa8f327e88220bd1102"
  },
  "kernelspec": {
   "display_name": "Python 3.9.6 64-bit",
   "language": "python",
   "name": "python3"
  },
  "language_info": {
   "codemirror_mode": {
    "name": "ipython",
    "version": 3
   },
   "file_extension": ".py",
   "mimetype": "text/x-python",
   "name": "python",
   "nbconvert_exporter": "python",
   "pygments_lexer": "ipython3",
   "version": "3.9.6"
  },
  "orig_nbformat": 4
 },
 "nbformat": 4,
 "nbformat_minor": 2
}
